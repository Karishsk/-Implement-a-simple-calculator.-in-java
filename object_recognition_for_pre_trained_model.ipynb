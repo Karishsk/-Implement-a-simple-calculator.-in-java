{
  "cells": [
    {
      "cell_type": "markdown",
      "metadata": {
        "id": "view-in-github",
        "colab_type": "text"
      },
      "source": [
        "<a href=\"https://colab.research.google.com/github/Karishsk/-Implement-a-simple-calculator.-in-java/blob/main/object_recognition_for_pre_trained_model.ipynb\" target=\"_parent\"><img src=\"https://colab.research.google.com/assets/colab-badge.svg\" alt=\"Open In Colab\"/></a>"
      ]
    },
    {
      "cell_type": "code",
      "execution_count": null,
      "id": "ff19884e",
      "metadata": {
        "scrolled": true,
        "id": "ff19884e",
        "outputId": "17aa5262-2652-4b45-a1f5-2f74d9f802de"
      },
      "outputs": [
        {
          "name": "stdout",
          "output_type": "stream",
          "text": [
            "Matching region at (0, 0) with score: -1706.7018022280058\n"
          ]
        },
        {
          "ename": "OSError",
          "evalue": "cannot write mode F as JPEG",
          "output_type": "error",
          "traceback": [
            "\u001b[1;31m---------------------------------------------------------------------------\u001b[0m",
            "\u001b[1;31mKeyError\u001b[0m                                  Traceback (most recent call last)",
            "File \u001b[1;32m~\\anaconda3\\lib\\site-packages\\PIL\\JpegImagePlugin.py:630\u001b[0m, in \u001b[0;36m_save\u001b[1;34m(im, fp, filename)\u001b[0m\n\u001b[0;32m    629\u001b[0m \u001b[38;5;28;01mtry\u001b[39;00m:\n\u001b[1;32m--> 630\u001b[0m     rawmode \u001b[38;5;241m=\u001b[39m \u001b[43mRAWMODE\u001b[49m\u001b[43m[\u001b[49m\u001b[43mim\u001b[49m\u001b[38;5;241;43m.\u001b[39;49m\u001b[43mmode\u001b[49m\u001b[43m]\u001b[49m\n\u001b[0;32m    631\u001b[0m \u001b[38;5;28;01mexcept\u001b[39;00m \u001b[38;5;167;01mKeyError\u001b[39;00m \u001b[38;5;28;01mas\u001b[39;00m e:\n",
            "\u001b[1;31mKeyError\u001b[0m: 'F'",
            "\nThe above exception was the direct cause of the following exception:\n",
            "\u001b[1;31mOSError\u001b[0m                                   Traceback (most recent call last)",
            "Input \u001b[1;32mIn [1]\u001b[0m, in \u001b[0;36m<cell line: 63>\u001b[1;34m()\u001b[0m\n\u001b[0;32m     60\u001b[0m template \u001b[38;5;241m=\u001b[39m load_image(template_path)\n\u001b[0;32m     62\u001b[0m \u001b[38;5;66;03m# Perform template matching\u001b[39;00m\n\u001b[1;32m---> 63\u001b[0m best_match, best_score \u001b[38;5;241m=\u001b[39m \u001b[43mmatch_template\u001b[49m\u001b[43m(\u001b[49m\u001b[43mimage\u001b[49m\u001b[43m,\u001b[49m\u001b[43m \u001b[49m\u001b[43mtemplate\u001b[49m\u001b[43m)\u001b[49m\n\u001b[0;32m     65\u001b[0m \u001b[38;5;66;03m# Display the result\u001b[39;00m\n\u001b[0;32m     66\u001b[0m \u001b[38;5;28;01mif\u001b[39;00m best_match:\n",
            "Input \u001b[1;32mIn [1]\u001b[0m, in \u001b[0;36mmatch_template\u001b[1;34m(image, template)\u001b[0m\n\u001b[0;32m     48\u001b[0m             best_score \u001b[38;5;241m=\u001b[39m score\n\u001b[0;32m     49\u001b[0m             best_match \u001b[38;5;241m=\u001b[39m (x, y)\n\u001b[1;32m---> 50\u001b[0m             \u001b[43msave_sub_image\u001b[49m\u001b[43m(\u001b[49m\u001b[43mimage_array\u001b[49m\u001b[43m,\u001b[49m\u001b[43m \u001b[49m\u001b[43m(\u001b[49m\u001b[43my\u001b[49m\u001b[43m,\u001b[49m\u001b[43m \u001b[49m\u001b[43mx\u001b[49m\u001b[43m)\u001b[49m\u001b[43m,\u001b[49m\u001b[43m \u001b[49m\u001b[43m(\u001b[49m\u001b[43mtmpl_h\u001b[49m\u001b[43m,\u001b[49m\u001b[43m \u001b[49m\u001b[43mtmpl_w\u001b[49m\u001b[43m)\u001b[49m\u001b[43m,\u001b[49m\u001b[43m \u001b[49m\u001b[38;5;124;43m'\u001b[39;49m\u001b[38;5;124;43mbest_match_region.jpg\u001b[39;49m\u001b[38;5;124;43m'\u001b[39;49m\u001b[43m)\u001b[49m\n\u001b[0;32m     52\u001b[0m \u001b[38;5;28;01mreturn\u001b[39;00m best_match, best_score\n",
            "Input \u001b[1;32mIn [1]\u001b[0m, in \u001b[0;36msave_sub_image\u001b[1;34m(image_array, top_left, size, file_name)\u001b[0m\n\u001b[0;32m     17\u001b[0m h, w \u001b[38;5;241m=\u001b[39m size\n\u001b[0;32m     18\u001b[0m sub_image \u001b[38;5;241m=\u001b[39m image_array[y:y\u001b[38;5;241m+\u001b[39mh, x:x\u001b[38;5;241m+\u001b[39mw]\n\u001b[1;32m---> 19\u001b[0m \u001b[43mImage\u001b[49m\u001b[38;5;241;43m.\u001b[39;49m\u001b[43mfromarray\u001b[49m\u001b[43m(\u001b[49m\u001b[43msub_image\u001b[49m\u001b[43m)\u001b[49m\u001b[38;5;241;43m.\u001b[39;49m\u001b[43msave\u001b[49m\u001b[43m(\u001b[49m\u001b[43mfile_name\u001b[49m\u001b[43m)\u001b[49m\n",
            "File \u001b[1;32m~\\anaconda3\\lib\\site-packages\\PIL\\Image.py:2212\u001b[0m, in \u001b[0;36mImage.save\u001b[1;34m(self, fp, format, **params)\u001b[0m\n\u001b[0;32m   2209\u001b[0m         fp \u001b[38;5;241m=\u001b[39m builtins\u001b[38;5;241m.\u001b[39mopen(filename, \u001b[38;5;124m\"\u001b[39m\u001b[38;5;124mw+b\u001b[39m\u001b[38;5;124m\"\u001b[39m)\n\u001b[0;32m   2211\u001b[0m \u001b[38;5;28;01mtry\u001b[39;00m:\n\u001b[1;32m-> 2212\u001b[0m     \u001b[43msave_handler\u001b[49m\u001b[43m(\u001b[49m\u001b[38;5;28;43mself\u001b[39;49m\u001b[43m,\u001b[49m\u001b[43m \u001b[49m\u001b[43mfp\u001b[49m\u001b[43m,\u001b[49m\u001b[43m \u001b[49m\u001b[43mfilename\u001b[49m\u001b[43m)\u001b[49m\n\u001b[0;32m   2213\u001b[0m \u001b[38;5;28;01mfinally\u001b[39;00m:\n\u001b[0;32m   2214\u001b[0m     \u001b[38;5;66;03m# do what we can to clean up\u001b[39;00m\n\u001b[0;32m   2215\u001b[0m     \u001b[38;5;28;01mif\u001b[39;00m open_fp:\n",
            "File \u001b[1;32m~\\anaconda3\\lib\\site-packages\\PIL\\JpegImagePlugin.py:632\u001b[0m, in \u001b[0;36m_save\u001b[1;34m(im, fp, filename)\u001b[0m\n\u001b[0;32m    630\u001b[0m     rawmode \u001b[38;5;241m=\u001b[39m RAWMODE[im\u001b[38;5;241m.\u001b[39mmode]\n\u001b[0;32m    631\u001b[0m \u001b[38;5;28;01mexcept\u001b[39;00m \u001b[38;5;167;01mKeyError\u001b[39;00m \u001b[38;5;28;01mas\u001b[39;00m e:\n\u001b[1;32m--> 632\u001b[0m     \u001b[38;5;28;01mraise\u001b[39;00m \u001b[38;5;167;01mOSError\u001b[39;00m(\u001b[38;5;124mf\u001b[39m\u001b[38;5;124m\"\u001b[39m\u001b[38;5;124mcannot write mode \u001b[39m\u001b[38;5;132;01m{\u001b[39;00mim\u001b[38;5;241m.\u001b[39mmode\u001b[38;5;132;01m}\u001b[39;00m\u001b[38;5;124m as JPEG\u001b[39m\u001b[38;5;124m\"\u001b[39m) \u001b[38;5;28;01mfrom\u001b[39;00m \u001b[38;5;21;01me\u001b[39;00m\n\u001b[0;32m    634\u001b[0m info \u001b[38;5;241m=\u001b[39m im\u001b[38;5;241m.\u001b[39mencoderinfo\n\u001b[0;32m    636\u001b[0m dpi \u001b[38;5;241m=\u001b[39m [\u001b[38;5;28mround\u001b[39m(x) \u001b[38;5;28;01mfor\u001b[39;00m x \u001b[38;5;129;01min\u001b[39;00m info\u001b[38;5;241m.\u001b[39mget(\u001b[38;5;124m\"\u001b[39m\u001b[38;5;124mdpi\u001b[39m\u001b[38;5;124m\"\u001b[39m, (\u001b[38;5;241m0\u001b[39m, \u001b[38;5;241m0\u001b[39m))]\n",
            "\u001b[1;31mOSError\u001b[0m: cannot write mode F as JPEG"
          ]
        }
      ],
      "source": [
        "from PIL import Image\n",
        "import numpy as np\n",
        "\n",
        "def load_image(image_path):\n",
        "    return Image.open(image_path).convert('L')  # Convert to grayscale\n",
        "\n",
        "def image_to_array(image):\n",
        "    return np.array(image)\n",
        "\n",
        "def normalize_image(image_array):\n",
        "    mean = np.mean(image_array)\n",
        "    std = np.std(image_array)\n",
        "    return (image_array - mean) / std\n",
        "\n",
        "def save_sub_image(image_array, top_left, size, file_name):\n",
        "    y, x = top_left\n",
        "    h, w = size\n",
        "    sub_image = image_array[y:y+h, x:x+w]\n",
        "    Image.fromarray(sub_image).save(file_name)\n",
        "\n",
        "def match_template(image, template):\n",
        "    image_array = normalize_image(image_to_array(image))\n",
        "    template_array = normalize_image(image_to_array(template))\n",
        "\n",
        "    img_h, img_w = image_array.shape\n",
        "    tmpl_h, tmpl_w = template_array.shape\n",
        "\n",
        "    best_match = None\n",
        "    best_score = -float('inf')  # For NCC, higher values are better\n",
        "\n",
        "    template_mean = np.mean(template_array)\n",
        "    template_std = np.std(template_array)\n",
        "\n",
        "    for y in range(img_h - tmpl_h + 1):\n",
        "        for x in range(img_w - tmpl_w + 1):\n",
        "            sub_image = image_array[y:y+tmpl_h, x:x+tmpl_w]\n",
        "            sub_image_mean = np.mean(sub_image)\n",
        "            sub_image_std = np.std(sub_image)\n",
        "\n",
        "            norm_sub_image = (sub_image - sub_image_mean) / sub_image_std\n",
        "            norm_template = (template_array - template_mean) / template_std\n",
        "\n",
        "            score = np.sum(norm_sub_image * norm_template)\n",
        "            print(f\"Matching region at ({x}, {y}) with score: {score}\")\n",
        "\n",
        "            # Save the best matching region for visualization\n",
        "            if score > best_score:\n",
        "                best_score = score\n",
        "                best_match = (x, y)\n",
        "                save_sub_image(image_array, (y, x), (tmpl_h, tmpl_w), 'best_match_region.jpg')\n",
        "\n",
        "    return best_match, best_score\n",
        "\n",
        "# Provide the paths to your image and template\n",
        "image_path = \"C:\\\\Users\\\\Lenovo\\\\Downloads\\\\download.jpeg\"\n",
        "template_path = \"C:\\\\Users\\\\Lenovo\\\\Downloads\\\\download (1).jpeg\"\n",
        "\n",
        "# Load the image and template\n",
        "image = load_image(image_path)\n",
        "template = load_image(template_path)\n",
        "\n",
        "# Perform template matching\n",
        "best_match, best_score = match_template(image, template)\n",
        "\n",
        "# Display the result\n",
        "if best_match:\n",
        "    print(f\"Best match found at: {best_match} with score: {best_score}\")\n",
        "else:\n",
        "    print(\"No match found\")\n"
      ]
    },
    {
      "cell_type": "code",
      "execution_count": null,
      "id": "6237d922",
      "metadata": {
        "id": "6237d922",
        "outputId": "723d31f5-bf5c-4176-f909-1ab78912bd33"
      },
      "outputs": [
        {
          "name": "stdout",
          "output_type": "stream",
          "text": [
            "Image size: (275, 183)\n",
            "Template size: (275, 183)\n"
          ]
        }
      ],
      "source": [
        "print(f\"Image size: {image.size}\")\n",
        "print(f\"Template size: {template.size}\")\n"
      ]
    }
  ],
  "metadata": {
    "kernelspec": {
      "display_name": "Python 3 (ipykernel)",
      "language": "python",
      "name": "python3"
    },
    "language_info": {
      "codemirror_mode": {
        "name": "ipython",
        "version": 3
      },
      "file_extension": ".py",
      "mimetype": "text/x-python",
      "name": "python",
      "nbconvert_exporter": "python",
      "pygments_lexer": "ipython3",
      "version": "3.9.12"
    },
    "colab": {
      "provenance": [],
      "include_colab_link": true
    }
  },
  "nbformat": 4,
  "nbformat_minor": 5
}